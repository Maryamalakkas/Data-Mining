{
 "cells": [
  {
   "cell_type": "code",
   "execution_count": 3,
   "metadata": {},
   "outputs": [],
   "source": [
    "def request(loan,salary):\n",
    "    while(salary<0 or loan<0 or (loan>(5*salary))) :\n",
    "        print(\"incorrect input\")\n",
    "        return\n",
    "    loanIntrest= loan*0.05\n",
    "    tolatAmount= loan+loanIntrest\n",
    "    print (tolatAmount)"
   ]
  },
  {
   "cell_type": "code",
   "execution_count": 4,
   "metadata": {},
   "outputs": [
    {
     "name": "stdout",
     "output_type": "stream",
     "text": [
      "52.5\n"
     ]
    }
   ],
   "source": [
    "loan=int(input(\"Enter loan: \"))\n",
    "salary=int(input(\"Enter salary: \"))\n",
    "request(loan,salary)  \n"
   ]
  }
 ],
 "metadata": {
  "kernelspec": {
   "display_name": "Python 3",
   "language": "python",
   "name": "python3"
  },
  "language_info": {
   "codemirror_mode": {
    "name": "ipython",
    "version": 3
   },
   "file_extension": ".py",
   "mimetype": "text/x-python",
   "name": "python",
   "nbconvert_exporter": "python",
   "pygments_lexer": "ipython3",
   "version": "3.10.5"
  }
 },
 "nbformat": 4,
 "nbformat_minor": 2
}
