{
 "cells": [
  {
   "cell_type": "code",
   "execution_count": 15,
   "metadata": {},
   "outputs": [],
   "source": [
    "def request(loan,salary):\n",
    "    while(salary<0 or loan<0 or (loan>(5*salary))) :\n",
    "        print(\"invalid input\")\n",
    "        return\n",
    "    \n",
    "\n",
    "    loanIntrest= loan*0.05\n",
    "    tolatAmount= loan+loanIntrest\n",
    "    \n",
    "    print (tolatAmount)"
   ]
  },
  {
   "cell_type": "code",
   "execution_count": 16,
   "metadata": {},
   "outputs": [
    {
     "name": "stdout",
     "output_type": "stream",
     "text": [
      "The loan is:  10\n",
      "The salary is:  1000\n",
      "10.5\n"
     ]
    }
   ],
   "source": [
    "loan=int(input(\"Enter loan: \"))\n",
    "print(\"The loan is: \",loan)\n",
    "\n",
    "salary=int(input(\"Enter salary: \"))\n",
    "print(\"The salary is: \",salary)\n",
    "\n",
    "request(loan,salary)  "
   ]
  }
 ],
 "metadata": {
  "kernelspec": {
   "display_name": "Python 3",
   "language": "python",
   "name": "python3"
  },
  "language_info": {
   "codemirror_mode": {
    "name": "ipython",
    "version": 3
   },
   "file_extension": ".py",
   "mimetype": "text/x-python",
   "name": "python",
   "nbconvert_exporter": "python",
   "pygments_lexer": "ipython3",
   "version": "3.10.5"
  }
 },
 "nbformat": 4,
 "nbformat_minor": 2
}
